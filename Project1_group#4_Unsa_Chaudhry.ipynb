{
    "metadata": {
        "kernelspec": {
            "name": "SQL",
            "display_name": "SQL",
            "language": "sql"
        },
        "language_info": {
            "name": "sql",
            "version": ""
        }
    },
    "nbformat_minor": 2,
    "nbformat": 4,
    "cells": [
        {
            "cell_type": "markdown",
            "source": [
                "Case #001: The Vanishing Customers  \n",
                "In the bustling markets of Northwind City, a strange pattern has emerged. Several new customers appeared this year, placing large orders — yet, there’s no record of them in last year’s logs. Were they forgotten clients… or new faces hiding something deeper? Your task is to find out who these new customers are.\n",
                "\n",
                "Tables Involved:\n",
                "\n",
                "Sales.\\[Order\\], Sales.Customer  \n",
                "\n",
                "Objectives\n",
                "\n",
                "1. Retrieve customers who have placed orders in the current year.\n",
                "    \n",
                "2. Retrieve customers who placed orders last year.\n",
                "    \n",
                "3. Compare both sets to reveal those who ordered this year but not last year."
            ],
            "metadata": {
                "azdata_cell_guid": "3ed18a15-e98d-47e4-a49b-45dc627f616f"
            },
            "attachments": {}
        },
        {
            "cell_type": "markdown",
            "source": [
                "Case #002: The Loyal Ghost\n",
                "\n",
                "<span style=\"font-family: -apple-system, BlinkMacSystemFont, sans-serif; color: var(--vscode-foreground);\">Every April, one customer quietly returns — lolJO. They place their order, then vanish for months. Records show their last activity was on April 27, 2022. Who are they, and why do they keep coming back?</span>  \n",
                "\n",
                "Tables Involved:\n",
                "\n",
                "Sales.\\[Order\\], Sales.Customer\n",
                "\n",
                "Objectives\n",
                "\n",
                "- Retrieve each customer with the date of their most recent order.\n",
                "    \n",
                "- Narrow the search to the customer l0lJ0 whose last order date is 2022-04-27."
            ],
            "metadata": {
                "azdata_cell_guid": "e6951673-8f48-4ac8-90e9-b3ab6c00a31a"
            },
            "attachments": {}
        },
        {
            "cell_type": "markdown",
            "source": [
                "Case #003: The Brazilian Connection\n",
                "\n",
                "<span style=\"font-family: -apple-system, BlinkMacSystemFont, sans-serif; color: var(--vscode-foreground);\">Whispers spread through the trading floor — a secret ring operating in Brazil. Certain suppliers may also be registered as customers, controlling both sides of the market. Could they be laundering goods under dual identities?</span>  \n",
                "\n",
                "Tables Involved:\n",
                "\n",
                "Production.Supplier, Sales.Customer\n",
                "\n",
                "Objectives\n",
                "\n",
                "- Identify all suppliers and customers who share the same city and country.\n",
                "    \n",
                "- Filter the results to show only those located in Brazil."
            ],
            "metadata": {
                "azdata_cell_guid": "25b833a6-5f00-40a5-b1b2-7ff547000b2e"
            },
            "attachments": {}
        },
        {
            "cell_type": "markdown",
            "source": [
                "Case #004: The Missing Products\n",
                "\n",
                "<span style=\"font-family: -apple-system, BlinkMacSystemFont, sans-serif; color: var(--vscode-foreground);\">Warehouse managers are sounding the alarm — shipments reference products that no longer exist in the catalog. Were they deleted by accident, or has someone been tampering with the records to cover their tracks?</span>  \n",
                "\n",
                "Tables Involved:\n",
                "\n",
                "Sales.OrderDetail, Production.Product\n",
                "\n",
                "Objectives\n",
                "\n",
                "- Retrieve all ordered products from the order details table.\n",
                "    \n",
                "- Compare them with the product catalog.\n",
                "    \n",
                "- Find any orders linked to missing or deleted products."
            ],
            "metadata": {
                "azdata_cell_guid": "5058abea-49c6-4eca-a38c-499af22152a6"
            },
            "attachments": {}
        },
        {
            "cell_type": "markdown",
            "source": [
                "Case #005: The Money-Laundering Scandal\n",
                "\n",
                "<span style=\"font-family: -apple-system, BlinkMacSystemFont, sans-serif; color: var(--vscode-foreground);\">An anonymous tip has rocked headquarters. One of the company’s top customers may be disguising loitered money as legitimate purchases. Accounting traced a suspicious transaction totaling $113,236.68 — your job is to uncover who’s behind it.</span>  \n",
                "\n",
                "Tables Involved:\n",
                "\n",
                "Sales.\\[Order\\], Sales.OrderDetail, Sales.Customer\n",
                "\n",
                "Objectives\n",
                "\n",
                "- Calculate total spending per customer using quantity and unit price.\n",
                "    \n",
                "- Identify the customer whose total spending equals $113,236.68"
            ],
            "metadata": {
                "azdata_cell_guid": "334a6522-a5c0-456b-93ab-c58d82141e7b"
            },
            "attachments": {}
        },
        {
            "cell_type": "markdown",
            "source": [
                "Case #006: The Missing CEO\n",
                "\n",
                "<span style=\"font-family: -apple-system, BlinkMacSystemFont, sans-serif; color: var(--vscode-foreground);\">The company’s annual reports are in — every salesperson has recorded their numbers, except one. The CEO’s name is completely absent from the order logs. A coincidence… or a carefully executed disappearance?</span>  \n",
                "\n",
                "Tables Involved:\n",
                "\n",
                "Sales.\\[Order\\], HumanResources.Employee\n",
                "\n",
                "Objectives\n",
                "\n",
                "- Identify all employees who have made no sales this year.\n",
                "    \n",
                "- Narrow the results to the employee whose title includes “CEO.”"
            ],
            "metadata": {
                "azdata_cell_guid": "0f7b0f03-0cb7-4d75-a8a2-13cd72ec4c26"
            },
            "attachments": {}
        },
        {
            "cell_type": "markdown",
            "source": [
                "<span style=\"font-family: -apple-system, BlinkMacSystemFont, sans-serif; color: var(--vscode-foreground);\">Case #007: Eighteen Days Late</span>  \n",
                "\n",
                "<span style=\"font-family: -apple-system, BlinkMacSystemFont, sans-serif; color: var(--vscode-foreground);\">A furious client, RSNQC, claims their order arrived 18 days late. The shipper, GVSUA, denies all responsibility. With tempers high and trust low, your investigation begins in the delivery records.</span>  \n",
                "\n",
                "Tables Involved:\n",
                "\n",
                "Sales.\\[Order\\], Sales.Customer, Sales.Shipper\n",
                "\n",
                "<span style=\"font-family: -apple-system, BlinkMacSystemFont, sans-serif; color: var(--vscode-foreground);\">Objectives</span>  \n",
                "\n",
                "- Retrieve all orders shipped after their required date and calculate how many days late each was.\n",
                "    \n",
                "- Filter to show only the case where DaysLate = 18, customer = RSNQC, and shipper = GVSUA."
            ],
            "metadata": {
                "azdata_cell_guid": "dd5876ed-0eec-4015-89d1-735bc3af2215"
            },
            "attachments": {}
        }
    ]
}