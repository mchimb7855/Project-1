{
    "metadata": {
        "kernelspec": {
            "name": "SQL",
            "display_name": "SQL",
            "language": "sql"
        },
        "language_info": {
            "name": "sql",
            "version": ""
        }
    },
    "nbformat_minor": 2,
    "nbformat": 4,
    "cells": [
        {
            "cell_type": "markdown",
            "source": [
                "Mystery/Crime Proposition #001: The Greedy Employee  \n",
                "An employee is secretly running a business with the company's inventory.  \n",
                "Tables: HumanResources.Employee, Sales.Order  \n",
                "Objective: Display any matches between an employee and orders through area codes, which will help us find the schemer."
            ],
            "metadata": {
                "azdata_cell_guid": "731a46fa-595e-43ad-b79c-5490684cf224"
            },
            "attachments": {}
        },
        {
            "cell_type": "markdown",
            "source": [
                "Mystery/Crime Proposition #002: The Discount Abuser  \n",
                "A specific employee is giving an unusually high average discount rate to their customers. This is suspicious because high, consistent discounts often signal a hidden agreement, like a kickback in exchange for giving the client a great deal.\n",
                "\n",
                "<span style=\"color: var(--vscode-foreground); font-family: -apple-system, BlinkMacSystemFont, sans-serif;\">Tables: HumanResources.Employee, Sales.Order, Sales.OrderDetail</span>\n",
                "\n",
                "<span style=\"font-family: -apple-system, BlinkMacSystemFont, sans-serif; color: var(--vscode-foreground);\">Objectives: Find the name of the employees with the highest average discount rate who processed enough orders to make that average statisticall possible. The outlier will be our prime suspect.</span>"
            ],
            "metadata": {
                "language": "sql",
                "azdata_cell_guid": "416a7b20-af79-4a12-9edb-6d2f6c981ae1"
            },
            "attachments": {}
        },
        {
            "cell_type": "markdown",
            "source": [
                "Mystery/Crime Proposition #003: The Side Hustler  \n",
                "An employee is running an unauthorized side business acting as a supllier to an external business. Their goal is to maximize the number of units moved before getting caught.  \n",
                "Tables: HumanResources.Employee, Sales.Order,Sales.OrderDetail  \n",
                "Objective: Identify the extreme outlier in unit sales volume. Pinpoint the employee who is the most aggressive at moving high volumes of products."
            ],
            "metadata": {
                "language": "sql",
                "azdata_cell_guid": "3e938239-75d0-4909-8ed3-9db4431f0954"
            },
            "attachments": {}
        },
        {
            "cell_type": "markdown",
            "source": [
                "Mystery/Crime Proposition #004: The Free Freight Fixer\n",
                "\n",
                "<span style=\"color: var(--vscode-foreground); font-family: -apple-system, BlinkMacSystemFont, sans-serif;\">It is believed that an employee is removing the company's shipping costs from orders, essentially giving a large, unauthorized discount on delivery.</span>\n",
                "\n",
                "<span style=\"color: var(--vscode-foreground); font-family: -apple-system, BlinkMacSystemFont, sans-serif;\">Tables: HumanResources.Employee, Sales.Order<br>Objective: Find the suspect by seeing who had the highest total number of orders where the shipping cost was set to $0.00 which will identify who most frequently ships for free.</span>"
            ],
            "metadata": {
                "language": "sql",
                "azdata_cell_guid": "bf9f2154-87eb-4839-9311-43fc39ea522a"
            },
            "attachments": {}
        },
        {
            "cell_type": "markdown",
            "source": [
                "Mystery/Crime Proposition #005: Product Bias Suspect  \n",
                "Find the employees who have processed a high number of orders but whose orders contain the fewest number of unique products. This flags them as having an unhealthily narrow sales focus.  \n",
                "Tables: HumanResources.Employee, Sales.Order, Sales.OrderDetail  \n",
                "Objective: Display employees with their number of unique products sold as well as tota lorders processed."
            ],
            "metadata": {
                "language": "sql",
                "azdata_cell_guid": "037fc6d6-9ea4-4dc6-8bd4-ade0df8bbc73"
            },
            "attachments": {}
        },
        {
            "cell_type": "markdown",
            "source": [
                "Mystery/Crime Proposition #006: The Rogue Customer Address  \n",
                "A long time customer is suspected of trying to commit fraud by setting up a dusplicate account using a fake address. The only clue is that their suspicious orders are being shipped to a city where Northwind has no registered suppliers.  \n",
                "Tables: Sales.Order, Sales.Customer  \n",
                "Objective: Find the contact name of the customer and the ship city of their order where the ship city is not a city where northwind has an active supplier, exposing the fraudulent shipping location."
            ],
            "metadata": {
                "language": "sql",
                "azdata_cell_guid": "d0308da6-c285-4666-be38-572a00088cb1"
            },
            "attachments": {}
        },
        {
            "cell_type": "markdown",
            "source": [
                "Mystery/Crime Proposition #007: The Anonymous Caller\n",
                "\n",
                "A threatening letter was found referencing a customer whose name contains the letters \"ALF\". This customer is only dangerous if they haven't placed an order in the last two years, indicating they've gone rogue. \n",
                "\n",
                "Tables: Sales.Customer, Sales.Order\n",
                "\n",
                "Objective: Find the contact name of the customer whose name contains the letters \"ALF\" and whose most recent order date is January 1, 2023. We'll assume we are in 2025."
            ],
            "metadata": {
                "language": "sql",
                "azdata_cell_guid": "e1f1b790-bb83-4351-a563-857fad3ee398"
            },
            "attachments": {}
        }
    ]
}